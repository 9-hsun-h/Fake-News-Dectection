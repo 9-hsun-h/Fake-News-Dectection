{
 "cells": [
  {
   "cell_type": "markdown",
   "id": "4c72d9e8",
   "metadata": {},
   "source": [
    "# https://www.kaggle.com/ilaydadu/fake-news-detection-with-nlp-and-lstm"
   ]
  },
  {
   "cell_type": "code",
   "execution_count": 1,
   "id": "7e2e728b",
   "metadata": {},
   "outputs": [],
   "source": [
    "import numpy as np\n",
    "import pandas as pd\n",
    "import matplotlib.pyplot as plt\n",
    "import seaborn as sns\n",
    "\n",
    "import nltk\n",
    "import re\n",
    "import string \n",
    "\n",
    "from sklearn.model_selection import train_test_split\n",
    "from sklearn.metrics import classification_report\n",
    "\n",
    "import keras\n",
    "from keras.preprocessing import text,sequence\n",
    "from keras.models import Sequential\n",
    "from keras.layers import Dense,Embedding,LSTM,Dropout\n",
    "\n",
    "# import warnings\n",
    "# warnings.filterwarnings('ignore')\n",
    "\n",
    "# import os\n",
    "# for dirname, _, filenames in os.walk('D:/資料科學應用/project'):\n",
    "#     for filename in filenames:\n",
    "#         print(os.path.join(dirname, filename))"
   ]
  },
  {
   "cell_type": "code",
   "execution_count": 2,
   "id": "872bb2f4",
   "metadata": {},
   "outputs": [
    {
     "data": {
      "text/plain": [
       "[name: \"/device:CPU:0\"\n",
       " device_type: \"CPU\"\n",
       " memory_limit: 268435456\n",
       " locality {\n",
       " }\n",
       " incarnation: 11797772222839238982]"
      ]
     },
     "execution_count": 2,
     "metadata": {},
     "output_type": "execute_result"
    }
   ],
   "source": [
    "import tensorflow as tf\n",
    "tf.python.client.device_lib.list_local_devices()"
   ]
  },
  {
   "cell_type": "code",
   "execution_count": 3,
   "id": "6f5d6be6",
   "metadata": {},
   "outputs": [
    {
     "name": "stdout",
     "output_type": "stream",
     "text": [
      "Num GPUs Available:  0\n"
     ]
    }
   ],
   "source": [
    "print(\"Num GPUs Available: \", len(tf.config.experimental.list_physical_devices('GPU')))"
   ]
  },
  {
   "cell_type": "code",
   "execution_count": 249,
   "id": "d9c3e20c",
   "metadata": {},
   "outputs": [
    {
     "name": "stdout",
     "output_type": "stream",
     "text": [
      "35917\n"
     ]
    }
   ],
   "source": [
    "data = pd.read_csv('D:/資料科學應用/project/project_data_train.csv')\n",
    "print(len(data))"
   ]
  },
  {
   "cell_type": "code",
   "execution_count": 250,
   "id": "2879d422",
   "metadata": {},
   "outputs": [
    {
     "data": {
      "text/html": [
       "<div>\n",
       "<style scoped>\n",
       "    .dataframe tbody tr th:only-of-type {\n",
       "        vertical-align: middle;\n",
       "    }\n",
       "\n",
       "    .dataframe tbody tr th {\n",
       "        vertical-align: top;\n",
       "    }\n",
       "\n",
       "    .dataframe thead th {\n",
       "        text-align: right;\n",
       "    }\n",
       "</style>\n",
       "<table border=\"1\" class=\"dataframe\">\n",
       "  <thead>\n",
       "    <tr style=\"text-align: right;\">\n",
       "      <th></th>\n",
       "      <th>title</th>\n",
       "      <th>text</th>\n",
       "      <th>subject</th>\n",
       "      <th>date</th>\n",
       "      <th>label</th>\n",
       "    </tr>\n",
       "  </thead>\n",
       "  <tbody>\n",
       "    <tr>\n",
       "      <th>0</th>\n",
       "      <td>U.S. lawmakers seek missing information in rev...</td>\n",
       "      <td>LONDON, (Reuters) - The chairman of a congress...</td>\n",
       "      <td>politicsNews</td>\n",
       "      <td>August 8, 2017</td>\n",
       "      <td>0</td>\n",
       "    </tr>\n",
       "    <tr>\n",
       "      <th>1</th>\n",
       "      <td>Factbox: The nasty things Trump, Romney have s...</td>\n",
       "      <td>(Reuters) - Even for a 2016 election campaign ...</td>\n",
       "      <td>politicsNews</td>\n",
       "      <td>November 18, 2016</td>\n",
       "      <td>0</td>\n",
       "    </tr>\n",
       "    <tr>\n",
       "      <th>2</th>\n",
       "      <td>ARMY OF ISIS Scientists Ready To Wage War Agai...</td>\n",
       "      <td>But wait If WMD s have been banned by the inte...</td>\n",
       "      <td>left-news</td>\n",
       "      <td>Dec 6, 2015</td>\n",
       "      <td>1</td>\n",
       "    </tr>\n",
       "    <tr>\n",
       "      <th>3</th>\n",
       "      <td>PA RESTAURANT Forced To CLOSE After ICE Sweep ...</td>\n",
       "      <td>The Attorney representing the illegal aliens w...</td>\n",
       "      <td>politics</td>\n",
       "      <td>Mar 4, 2017</td>\n",
       "      <td>1</td>\n",
       "    </tr>\n",
       "    <tr>\n",
       "      <th>4</th>\n",
       "      <td>Trump eyes top policy aide for communications ...</td>\n",
       "      <td>WASHINGTON (Reuters) - The White House may app...</td>\n",
       "      <td>politicsNews</td>\n",
       "      <td>August 5, 2017</td>\n",
       "      <td>0</td>\n",
       "    </tr>\n",
       "    <tr>\n",
       "      <th>...</th>\n",
       "      <td>...</td>\n",
       "      <td>...</td>\n",
       "      <td>...</td>\n",
       "      <td>...</td>\n",
       "      <td>...</td>\n",
       "    </tr>\n",
       "    <tr>\n",
       "      <th>35912</th>\n",
       "      <td>WOW! EVEN CNN’s REPORTING On Mueller’s New Rus...</td>\n",
       "      <td>CNN Reports   Three members of the legal team ...</td>\n",
       "      <td>left-news</td>\n",
       "      <td>Jun 13, 2017</td>\n",
       "      <td>1</td>\n",
       "    </tr>\n",
       "    <tr>\n",
       "      <th>35913</th>\n",
       "      <td>GOP Senator Compares Obama To ‘Drug Dealer’</td>\n",
       "      <td>A Republican senator has compared President Ob...</td>\n",
       "      <td>News</td>\n",
       "      <td>August 21, 2016</td>\n",
       "      <td>1</td>\n",
       "    </tr>\n",
       "    <tr>\n",
       "      <th>35914</th>\n",
       "      <td>UK PM May promises frank talk with Trump after...</td>\n",
       "      <td>LONDON (Reuters) - Prime Minister Theresa May ...</td>\n",
       "      <td>politicsNews</td>\n",
       "      <td>January 22, 2017</td>\n",
       "      <td>0</td>\n",
       "    </tr>\n",
       "    <tr>\n",
       "      <th>35915</th>\n",
       "      <td>THE MOST UNCOURAGEOUS PRESIDENT EVER Receives ...</td>\n",
       "      <td>There has never been a more UNCOURAGEOUS perso...</td>\n",
       "      <td>politics</td>\n",
       "      <td>May 8, 2017</td>\n",
       "      <td>1</td>\n",
       "    </tr>\n",
       "    <tr>\n",
       "      <th>35916</th>\n",
       "      <td>Merkel's conservatives warned not to close off...</td>\n",
       "      <td>MUNICH, Germany (Reuters) - German Chancellor ...</td>\n",
       "      <td>worldnews</td>\n",
       "      <td>September 28, 2017</td>\n",
       "      <td>0</td>\n",
       "    </tr>\n",
       "  </tbody>\n",
       "</table>\n",
       "<p>35917 rows × 5 columns</p>\n",
       "</div>"
      ],
      "text/plain": [
       "                                                   title  \\\n",
       "0      U.S. lawmakers seek missing information in rev...   \n",
       "1      Factbox: The nasty things Trump, Romney have s...   \n",
       "2      ARMY OF ISIS Scientists Ready To Wage War Agai...   \n",
       "3      PA RESTAURANT Forced To CLOSE After ICE Sweep ...   \n",
       "4      Trump eyes top policy aide for communications ...   \n",
       "...                                                  ...   \n",
       "35912  WOW! EVEN CNN’s REPORTING On Mueller’s New Rus...   \n",
       "35913        GOP Senator Compares Obama To ‘Drug Dealer’   \n",
       "35914  UK PM May promises frank talk with Trump after...   \n",
       "35915  THE MOST UNCOURAGEOUS PRESIDENT EVER Receives ...   \n",
       "35916  Merkel's conservatives warned not to close off...   \n",
       "\n",
       "                                                    text       subject  \\\n",
       "0      LONDON, (Reuters) - The chairman of a congress...  politicsNews   \n",
       "1      (Reuters) - Even for a 2016 election campaign ...  politicsNews   \n",
       "2      But wait If WMD s have been banned by the inte...     left-news   \n",
       "3      The Attorney representing the illegal aliens w...      politics   \n",
       "4      WASHINGTON (Reuters) - The White House may app...  politicsNews   \n",
       "...                                                  ...           ...   \n",
       "35912  CNN Reports   Three members of the legal team ...     left-news   \n",
       "35913  A Republican senator has compared President Ob...          News   \n",
       "35914  LONDON (Reuters) - Prime Minister Theresa May ...  politicsNews   \n",
       "35915  There has never been a more UNCOURAGEOUS perso...      politics   \n",
       "35916  MUNICH, Germany (Reuters) - German Chancellor ...     worldnews   \n",
       "\n",
       "                      date  label  \n",
       "0          August 8, 2017       0  \n",
       "1       November 18, 2016       0  \n",
       "2              Dec 6, 2015      1  \n",
       "3              Mar 4, 2017      1  \n",
       "4          August 5, 2017       0  \n",
       "...                    ...    ...  \n",
       "35912         Jun 13, 2017      1  \n",
       "35913      August 21, 2016      1  \n",
       "35914    January 22, 2017       0  \n",
       "35915          May 8, 2017      1  \n",
       "35916  September 28, 2017       0  \n",
       "\n",
       "[35917 rows x 5 columns]"
      ]
     },
     "execution_count": 250,
     "metadata": {},
     "output_type": "execute_result"
    }
   ],
   "source": [
    "data"
   ]
  },
  {
   "cell_type": "code",
   "execution_count": 251,
   "id": "1539ae88",
   "metadata": {},
   "outputs": [
    {
     "data": {
      "text/plain": [
       "title      0\n",
       "text       0\n",
       "subject    0\n",
       "date       0\n",
       "label      0\n",
       "dtype: int64"
      ]
     },
     "execution_count": 251,
     "metadata": {},
     "output_type": "execute_result"
    }
   ],
   "source": [
    "data.isnull().sum()"
   ]
  },
  {
   "cell_type": "code",
   "execution_count": 252,
   "id": "d3033907",
   "metadata": {},
   "outputs": [
    {
     "name": "stdout",
     "output_type": "stream",
     "text": [
      "1    18784\n",
      "0    17133\n",
      "Name: label, dtype: int64\n"
     ]
    },
    {
     "name": "stderr",
     "output_type": "stream",
     "text": [
      "C:\\Users\\9hsun\\anaconda3\\envs\\news_keras_env37\\lib\\site-packages\\seaborn\\_decorators.py:43: FutureWarning: Pass the following variable as a keyword arg: x. From version 0.12, the only valid positional argument will be `data`, and passing other arguments without an explicit keyword will result in an error or misinterpretation.\n",
      "  FutureWarning\n",
      "C:\\Users\\9hsun\\anaconda3\\envs\\news_keras_env37\\lib\\site-packages\\ipykernel_launcher.py:8: UserWarning: Matplotlib is currently using module://ipykernel.pylab.backend_inline, which is a non-GUI backend, so cannot show the figure.\n",
      "  \n"
     ]
    },
    {
     "data": {
      "image/png": "[encoded data removed]",
      "text/plain": [
       "<Figure size 1368x360 with 2 Axes>"
      ]
     },
     "metadata": {
      "needs_background": "light"
     },
     "output_type": "display_data"
    }
   ],
   "source": [
    "print(data[\"label\"].value_counts())\n",
    "fig, ax = plt.subplots(1,2, figsize=(19, 5))\n",
    "g1 = sns.countplot(data.label,ax=ax[0],palette=\"pastel\");\n",
    "g1.set_title(\"Count of real and fake data\")\n",
    "g1.set_ylabel(\"Count\")\n",
    "g1.set_xlabel(\"label\")\n",
    "g2 = plt.pie(data[\"label\"].value_counts().values,explode=[0,0],labels=data.label.value_counts().index, autopct='%1.1f%%',colors=['SkyBlue','PeachPuff'])\n",
    "fig.show()"
   ]
  },
  {
   "cell_type": "code",
   "execution_count": 253,
   "id": "5fe8155f",
   "metadata": {},
   "outputs": [
    {
     "name": "stdout",
     "output_type": "stream",
     "text": [
      "politicsNews       9007\n",
      "worldnews          8126\n",
      "News               7213\n",
      "politics           5494\n",
      "left-news          3562\n",
      "Government News    1247\n",
      "US_News             636\n",
      "Middle-east         632\n",
      "Name: subject, dtype: int64\n"
     ]
    },
    {
     "data": {
      "text/plain": [
       "Text(0.5, 1.0, 'Distribution of The Subject According to Real and Fake Data')"
      ]
     },
     "execution_count": 253,
     "metadata": {},
     "output_type": "execute_result"
    },
    {
     "data": {
      "image/png": "[encoded data removed]",
      "text/plain": [
       "<Figure size 720x360 with 1 Axes>"
      ]
     },
     "metadata": {
      "needs_background": "light"
     },
     "output_type": "display_data"
    }
   ],
   "source": [
    "print(data.subject.value_counts())\n",
    "plt.figure(figsize=(10, 5))\n",
    "\n",
    "ax = sns.countplot(x=\"subject\",  hue='label', data=data, palette=\"pastel\")\n",
    "plt.title(\"Distribution of The Subject According to Real and Fake Data\")"
   ]
  },
  {
   "cell_type": "markdown",
   "id": "2bd25bc4",
   "metadata": {},
   "source": [
    "# Data Preprocessing"
   ]
  },
  {
   "cell_type": "code",
   "execution_count": 254,
   "id": "d9d87285",
   "metadata": {},
   "outputs": [
    {
     "data": {
      "text/html": [
       "<div>\n",
       "<style scoped>\n",
       "    .dataframe tbody tr th:only-of-type {\n",
       "        vertical-align: middle;\n",
       "    }\n",
       "\n",
       "    .dataframe tbody tr th {\n",
       "        vertical-align: top;\n",
       "    }\n",
       "\n",
       "    .dataframe thead th {\n",
       "        text-align: right;\n",
       "    }\n",
       "</style>\n",
       "<table border=\"1\" class=\"dataframe\">\n",
       "  <thead>\n",
       "    <tr style=\"text-align: right;\">\n",
       "      <th></th>\n",
       "      <th>text</th>\n",
       "      <th>label</th>\n",
       "    </tr>\n",
       "  </thead>\n",
       "  <tbody>\n",
       "    <tr>\n",
       "      <th>0</th>\n",
       "      <td>politicsNews U.S. lawmakers seek missing infor...</td>\n",
       "      <td>0</td>\n",
       "    </tr>\n",
       "    <tr>\n",
       "      <th>1</th>\n",
       "      <td>politicsNews Factbox: The nasty things Trump, ...</td>\n",
       "      <td>0</td>\n",
       "    </tr>\n",
       "    <tr>\n",
       "      <th>2</th>\n",
       "      <td>left-news ARMY OF ISIS Scientists Ready To Wag...</td>\n",
       "      <td>1</td>\n",
       "    </tr>\n",
       "    <tr>\n",
       "      <th>3</th>\n",
       "      <td>politics PA RESTAURANT Forced To CLOSE After I...</td>\n",
       "      <td>1</td>\n",
       "    </tr>\n",
       "    <tr>\n",
       "      <th>4</th>\n",
       "      <td>politicsNews Trump eyes top policy aide for co...</td>\n",
       "      <td>0</td>\n",
       "    </tr>\n",
       "  </tbody>\n",
       "</table>\n",
       "</div>"
      ],
      "text/plain": [
       "                                                text  label\n",
       "0  politicsNews U.S. lawmakers seek missing infor...      0\n",
       "1  politicsNews Factbox: The nasty things Trump, ...      0\n",
       "2  left-news ARMY OF ISIS Scientists Ready To Wag...      1\n",
       "3  politics PA RESTAURANT Forced To CLOSE After I...      1\n",
       "4  politicsNews Trump eyes top policy aide for co...      0"
      ]
     },
     "execution_count": 254,
     "metadata": {},
     "output_type": "execute_result"
    }
   ],
   "source": [
    "data['text']= data['subject'] + \" \" + data['title'] + \" \" + data['text']\n",
    "del data['title']\n",
    "del data['subject']\n",
    "del data['date']\n",
    "data.head()"
   ]
  },
  {
   "cell_type": "code",
   "execution_count": 255,
   "id": "e81919d3",
   "metadata": {},
   "outputs": [],
   "source": [
    "#nltk.download('punkt')"
   ]
  },
  {
   "cell_type": "code",
   "execution_count": 256,
   "id": "dc98cd8e",
   "metadata": {},
   "outputs": [],
   "source": [
    "from bs4 import BeautifulSoup\n",
    "from nltk.corpus import stopwords\n",
    "from nltk.stem import WordNetLemmatizer\n",
    "lemmatizer = WordNetLemmatizer()\n",
    "\n",
    "#Removal of HTML Contents\n",
    "def remove_html(text):\n",
    "    return BeautifulSoup(text, \"html.parser\").get_text()\n",
    "    \n",
    "#Removal of Punctuation Marks\n",
    "def remove_punctuations(text):\n",
    "    return re.sub('\\[[^]]*\\]', '', text)\n",
    "\n",
    "# Removal of Special Characters\n",
    "def remove_characters(text):\n",
    "    return re.sub(\"[^a-zA-Z]\",\" \",text)\n",
    "\n",
    "#Removal of stopwords \n",
    "def remove_stopwords_and_lemmatization(text):\n",
    "    final_text = []\n",
    "    text = text.lower()\n",
    "    text = nltk.word_tokenize(text)\n",
    "    \n",
    "    swords = set(stopwords.words(\"english\"))                      # conversion into set for fast searching\n",
    "    text = [w for w in text if w not in swords]\n",
    "    \n",
    "    for word in text:\n",
    "        word = lemmatizer.lemmatize(word) \n",
    "        final_text.append(word)\n",
    "    #print('finished')\n",
    "    return \" \".join(final_text)\n",
    "\n",
    "#Total function\n",
    "def cleaning(text):\n",
    "    text = remove_html(text)\n",
    "    text = remove_punctuations(text)\n",
    "    text = remove_characters(text)\n",
    "    text = remove_stopwords_and_lemmatization(text)\n",
    "    return text\n"
   ]
  },
  {
   "cell_type": "code",
   "execution_count": 257,
   "id": "a77bcd26",
   "metadata": {},
   "outputs": [
    {
     "data": {
      "text/plain": [
       "'politicsNews U.S. lawmakers seek missing information in review of Monsanto weedkiller LONDON, (Reuters) - The chairman of a congressional committee has asked the U.S. National Institutes of Health (NIH) to explain why its National Cancer Institute (NCI) failed to publish data that showed no links between glyphosate and cancer. In a Tuesday letter seen by Reuters, U.S. Representative Trey Gowdy, who chairs the House Committee on Government and Oversight Reform (OGR), said he “is concerned about the new revelations” and is “seeking more information” about why the exculpatory results were not published by the NCI. Glyphosate is a key ingredient in Monsanto’s top-selling weedkiller Roundup. Gowdy’s letter to NIH Director Francis Collins follows a June report by Reuters which found that a senior scientist from the NCI knew that fresh data from a large research project known as the Agricultural Health Study (AHS) showed no links between glyphosate and cancer.  Draft scientific papers dating from 2013 containing the data were never published. Consequently, the information was not able to be taken into account during the March 2015 review of the pesticide by the World Health Organization’s International Agency for Research on Cancer (IARC). An NIH spokeswoman told Reuters the NIH had received Gowdy’s letter “and will be responding directly to the committee.” Aaron Blair, the senior scientist at the NCI who knew about the data and also chaired the IARC review, previously told Reuters the data was not published in time because there was too much to fit into one scientific paper. Blair is now retired from the NCI. An NCI spokeswoman told Reuters in June the institute was drafting a manuscript on this topic. It would “explore the effects of glyphosate exposure in greater depth”, she said, and would be submitted to a peer-reviewed journal “in the coming months.”     Gowdy’s letter asked for “a briefing on these issues as soon as possible”. It also asked for information and any documents relating to the unpublished AHS data on glyphosate.     No one at IARC, which is based in Lyon, France, was immediately available for comment late on Tuesday.     IARC concluded in 2015 that glyphosate, is a “probable human carcinogen.” It based its finding on “limited evidence” of carcinogenicity in humans and “sufficient evidence” in experimental animals.      The agency’s assessment is at odds with other international regulators who have said the weedkiller is not a carcinogenic risk to humans.      The OGR has been looking into U.S. taxpayer funding of IARC. It began investigating IARC’s operations in 2016 after several lawmakers raised questions about why U.S. taxpayers were funding an agency that often faces criticism for its work.  A letter by Jason Chaffetz, then chairman of the OGR, in September 2016, also addressed to the NIH director, described IARC as having “a record of controversy, retractions, and inconsistencies” and asked why the NIH continued to fund it.      In previous responses to questions about its assessments of glyphosate and many other substances, IARC has defended them as scientifically sound.  The agency says its “monographs” - the name it gives its classifications of carcinogens - are “widely respected for their scientific rigor, standardized and transparent process and ... freedom from conflicts of interest”. '"
      ]
     },
     "execution_count": 257,
     "metadata": {},
     "output_type": "execute_result"
    }
   ],
   "source": [
    "data_before = data\n",
    "data_before['text'][0]"
   ]
  },
  {
   "cell_type": "code",
   "execution_count": 258,
   "id": "8307d563",
   "metadata": {},
   "outputs": [],
   "source": [
    "#Apply function on text column\n",
    "data['text'] = data['text'].apply(cleaning)"
   ]
  },
  {
   "cell_type": "code",
   "execution_count": 259,
   "id": "83319c83",
   "metadata": {},
   "outputs": [
    {
     "data": {
      "text/plain": [
       "'politicsnews u lawmaker seek missing information review monsanto weedkiller london reuters chairman congressional committee asked u national institute health nih explain national cancer institute nci failed publish data showed link glyphosate cancer tuesday letter seen reuters u representative trey gowdy chair house committee government oversight reform ogr said concerned new revelation seeking information exculpatory result published nci glyphosate key ingredient monsanto top selling weedkiller roundup gowdy letter nih director francis collins follows june report reuters found senior scientist nci knew fresh data large research project known agricultural health study ahs showed link glyphosate cancer draft scientific paper dating containing data never published consequently information able taken account march review pesticide world health organization international agency research cancer iarc nih spokeswoman told reuters nih received gowdy letter responding directly committee aaron blair senior scientist nci knew data also chaired iarc review previously told reuters data published time much fit one scientific paper blair retired nci nci spokeswoman told reuters june institute drafting manuscript topic would explore effect glyphosate exposure greater depth said would submitted peer reviewed journal coming month gowdy letter asked briefing issue soon possible also asked information document relating unpublished ahs data glyphosate one iarc based lyon france immediately available comment late tuesday iarc concluded glyphosate probable human carcinogen based finding limited evidence carcinogenicity human sufficient evidence experimental animal agency assessment odds international regulator said weedkiller carcinogenic risk human ogr looking u taxpayer funding iarc began investigating iarc operation several lawmaker raised question u taxpayer funding agency often face criticism work letter jason chaffetz chairman ogr september also addressed nih director described iarc record controversy retraction inconsistency asked nih continued fund previous response question assessment glyphosate many substance iarc defended scientifically sound agency say monograph name give classification carcinogen widely respected scientific rigor standardized transparent process freedom conflict interest'"
      ]
     },
     "execution_count": 259,
     "metadata": {},
     "output_type": "execute_result"
    }
   ],
   "source": [
    "data_before['text'][0]"
   ]
  },
  {
   "cell_type": "code",
   "execution_count": 260,
   "id": "0fa9710b",
   "metadata": {},
   "outputs": [
    {
     "data": {
      "text/plain": [
       "'politicsnews u lawmaker seek missing information review monsanto weedkiller london reuters chairman congressional committee asked u national institute health nih explain national cancer institute nci failed publish data showed link glyphosate cancer tuesday letter seen reuters u representative trey gowdy chair house committee government oversight reform ogr said concerned new revelation seeking information exculpatory result published nci glyphosate key ingredient monsanto top selling weedkiller roundup gowdy letter nih director francis collins follows june report reuters found senior scientist nci knew fresh data large research project known agricultural health study ahs showed link glyphosate cancer draft scientific paper dating containing data never published consequently information able taken account march review pesticide world health organization international agency research cancer iarc nih spokeswoman told reuters nih received gowdy letter responding directly committee aaron blair senior scientist nci knew data also chaired iarc review previously told reuters data published time much fit one scientific paper blair retired nci nci spokeswoman told reuters june institute drafting manuscript topic would explore effect glyphosate exposure greater depth said would submitted peer reviewed journal coming month gowdy letter asked briefing issue soon possible also asked information document relating unpublished ahs data glyphosate one iarc based lyon france immediately available comment late tuesday iarc concluded glyphosate probable human carcinogen based finding limited evidence carcinogenicity human sufficient evidence experimental animal agency assessment odds international regulator said weedkiller carcinogenic risk human ogr looking u taxpayer funding iarc began investigating iarc operation several lawmaker raised question u taxpayer funding agency often face criticism work letter jason chaffetz chairman ogr september also addressed nih director described iarc record controversy retraction inconsistency asked nih continued fund previous response question assessment glyphosate many substance iarc defended scientifically sound agency say monograph name give classification carcinogen widely respected scientific rigor standardized transparent process freedom conflict interest'"
      ]
     },
     "execution_count": 260,
     "metadata": {},
     "output_type": "execute_result"
    }
   ],
   "source": [
    "data['text'][0]"
   ]
  },
  {
   "cell_type": "code",
   "execution_count": 261,
   "id": "5bd46f72",
   "metadata": {},
   "outputs": [
    {
     "data": {
      "image/png": "[encoded data removed]",
      "text/plain": [
       "<Figure size 864x576 with 2 Axes>"
      ]
     },
     "metadata": {
      "needs_background": "light"
     },
     "output_type": "display_data"
    }
   ],
   "source": [
    "# Number of words in each text\n",
    "fig,(ax1,ax2)=plt.subplots(1,2,figsize=(12,8))\n",
    "text_len=data[data['label']==0]['text'].str.split().map(lambda x: len(x))\n",
    "ax1.hist(text_len,color='SkyBlue')\n",
    "ax1.set_title('label 0 news text')\n",
    "text_len=data[data['label']==1]['text'].str.split().map(lambda x: len(x))\n",
    "ax2.hist(text_len,color='PeachPuff')\n",
    "ax2.set_title('label 1 news text')\n",
    "fig.suptitle('Words in texts')\n",
    "plt.show()"
   ]
  },
  {
   "cell_type": "markdown",
   "id": "de514c05",
   "metadata": {},
   "source": [
    "# N-Gram Analysis"
   ]
  },
  {
   "cell_type": "code",
   "execution_count": 17,
   "id": "4a8fbefa",
   "metadata": {},
   "outputs": [],
   "source": [
    "texts = ' '.join(data['text'])\n",
    "string = texts.split(\" \")"
   ]
  },
  {
   "cell_type": "code",
   "execution_count": 18,
   "id": "2671d2c5",
   "metadata": {},
   "outputs": [],
   "source": [
    "def draw_n_gram(string,i):\n",
    "    n_gram = (pd.Series(nltk.ngrams(string, i)).value_counts())[:15]\n",
    "    n_gram_df=pd.DataFrame(n_gram)\n",
    "    n_gram_df = n_gram_df.reset_index()\n",
    "    n_gram_df = n_gram_df.rename(columns={\"index\": \"word\", 0: \"count\"})\n",
    "    print(n_gram_df.head())\n",
    "    plt.figure(figsize = (16,9))\n",
    "    return sns.barplot(x='count',y='word', data=n_gram_df)"
   ]
  },
  {
   "cell_type": "code",
   "execution_count": 19,
   "id": "33f1e5e7",
   "metadata": {},
   "outputs": [
    {
     "name": "stdout",
     "output_type": "stream",
     "text": [
      "           word   count\n",
      "0      (trump,)  119639\n",
      "1       (said,)  106499\n",
      "2          (u,)   63002\n",
      "3      (state,)   50147\n",
      "4  (president,)   46696\n"
     ]
    },
    {
     "data": {
      "text/plain": [
       "<AxesSubplot:xlabel='count', ylabel='word'>"
      ]
     },
     "execution_count": 19,
     "metadata": {},
     "output_type": "execute_result"
    },
    {
     "data": {
      "image/png": "[encoded data removed]",
      "text/plain": [
       "<Figure size 1152x648 with 1 Axes>"
      ]
     },
     "metadata": {
      "needs_background": "light"
     },
     "output_type": "display_data"
    }
   ],
   "source": [
    "draw_n_gram(string,1)"
   ]
  },
  {
   "cell_type": "code",
   "execution_count": 20,
   "id": "d1b55c17",
   "metadata": {},
   "outputs": [
    {
     "name": "stdout",
     "output_type": "stream",
     "text": [
      "                 word  count\n",
      "0     (donald, trump)  20178\n",
      "1     (united, state)  15124\n",
      "2      (white, house)  13023\n",
      "3  (hillary, clinton)   8200\n",
      "4         (new, york)   7489\n"
     ]
    },
    {
     "data": {
      "text/plain": [
       "<AxesSubplot:xlabel='count', ylabel='word'>"
      ]
     },
     "execution_count": 20,
     "metadata": {},
     "output_type": "execute_result"
    },
    {
     "data": {
      "image/png": "[encoded data removed]",
      "text/plain": [
       "<Figure size 1152x648 with 1 Axes>"
      ]
     },
     "metadata": {
      "needs_background": "light"
     },
     "output_type": "display_data"
    }
   ],
   "source": [
    "draw_n_gram(string,2)"
   ]
  },
  {
   "cell_type": "code",
   "execution_count": 21,
   "id": "e8cc0e0b",
   "metadata": {},
   "outputs": [
    {
     "name": "stdout",
     "output_type": "stream",
     "text": [
      "                         word  count\n",
      "0  (president, donald, trump)   5438\n",
      "1         (pic, twitter, com)   4919\n",
      "2      (featured, image, via)   4785\n",
      "3  (president, barack, obama)   3093\n",
      "4      (u, president, donald)   2096\n"
     ]
    },
    {
     "data": {
      "text/plain": [
       "<AxesSubplot:xlabel='count', ylabel='word'>"
      ]
     },
     "execution_count": 21,
     "metadata": {},
     "output_type": "execute_result"
    },
    {
     "data": {
      "image/png": "[encoded data removed]",
      "text/plain": [
       "<Figure size 1152x648 with 1 Axes>"
      ]
     },
     "metadata": {
      "needs_background": "light"
     },
     "output_type": "display_data"
    }
   ],
   "source": [
    "draw_n_gram(string,3)"
   ]
  },
  {
   "cell_type": "markdown",
   "id": "cfd5a614",
   "metadata": {},
   "source": [
    "# Splitting data"
   ]
  },
  {
   "cell_type": "code",
   "execution_count": 262,
   "id": "1b125602",
   "metadata": {},
   "outputs": [],
   "source": [
    "X_train, X_test, y_train, y_test = train_test_split(data['text'], data['label'], random_state=777)"
   ]
  },
  {
   "cell_type": "code",
   "execution_count": 263,
   "id": "38c3fb61",
   "metadata": {},
   "outputs": [
    {
     "data": {
      "text/plain": [
       "10415    left news target cave customer boycott transge...\n",
       "7537     worldnews new zealand labour leader say yet co...\n",
       "1458     politics hillary pander black radio host attem...\n",
       "24894    worldnews exclusive north korea rule negotiati...\n",
       "33697    worldnews protest called porto court agrees wo...\n",
       "                               ...                        \n",
       "17369    politicsnews pentagon seek budget change boost...\n",
       "28788    worldnews botswana court order government reco...\n",
       "10879    politicsnews senior republican signal issue co...\n",
       "26695    politicsnews big financial woe linger illinois...\n",
       "15931    politics wikileaks email hillary camp call con...\n",
       "Name: text, Length: 26937, dtype: object"
      ]
     },
     "execution_count": 263,
     "metadata": {},
     "output_type": "execute_result"
    }
   ],
   "source": [
    "X_train"
   ]
  },
  {
   "cell_type": "code",
   "execution_count": 266,
   "id": "00d474af",
   "metadata": {},
   "outputs": [
    {
     "data": {
      "text/plain": [
       "pandas.core.series.Series"
      ]
     },
     "execution_count": 266,
     "metadata": {},
     "output_type": "execute_result"
    }
   ],
   "source": [
    "type(X_train)"
   ]
  },
  {
   "cell_type": "markdown",
   "id": "95806caa",
   "metadata": {},
   "source": [
    "# Tokenizing"
   ]
  },
  {
   "cell_type": "code",
   "execution_count": 227,
   "id": "09b864a2",
   "metadata": {},
   "outputs": [],
   "source": [
    "# Lets keep all news to 300, add padding to news with less than 300 words and truncating long ones\n",
    "max_features = 10000\n",
    "maxlen = 300\n",
    "\n",
    "tokenizer = text.Tokenizer(num_words=max_features)\n",
    "tokenizer.fit_on_texts(X_train)\n",
    "tokenized_train = tokenizer.texts_to_sequences(X_train)\n",
    "X_train = sequence.pad_sequences(tokenized_train, maxlen=maxlen)\n",
    "\n",
    "tokenized_test = tokenizer.texts_to_sequences(X_test)\n",
    "X_test = sequence.pad_sequences(tokenized_test, maxlen=maxlen)"
   ]
  },
  {
   "cell_type": "markdown",
   "id": "7701ab89",
   "metadata": {},
   "source": [
    "# Training"
   ]
  },
  {
   "cell_type": "code",
   "execution_count": 24,
   "id": "878f4915",
   "metadata": {},
   "outputs": [],
   "source": [
    "batch_size = 256\n",
    "epochs = 10\n",
    "embed_size = 100"
   ]
  },
  {
   "cell_type": "code",
   "execution_count": 25,
   "id": "226d29fa",
   "metadata": {},
   "outputs": [],
   "source": [
    "# LSTM Model\n",
    "model = Sequential()\n",
    "#Non-trainable embeddidng layer\n",
    "model.add(Embedding(max_features, output_dim=embed_size, input_length=maxlen, trainable=False))\n",
    "#LSTM \n",
    "model.add(LSTM(units=128 , return_sequences = True , recurrent_dropout = 0.25 , dropout = 0.25))\n",
    "model.add(LSTM(units=64 , recurrent_dropout = 0.1 , dropout = 0.1))\n",
    "model.add(Dense(units = 32 , activation = 'relu'))\n",
    "model.add(Dense(1, activation='sigmoid'))\n",
    "model.compile(optimizer=keras.optimizers.Adam(lr = 0.01), loss='binary_crossentropy', metrics=['accuracy'])"
   ]
  },
  {
   "cell_type": "code",
   "execution_count": 26,
   "id": "ad196f40",
   "metadata": {},
   "outputs": [
    {
     "name": "stdout",
     "output_type": "stream",
     "text": [
      "Model: \"sequential\"\n",
      "_________________________________________________________________\n",
      "Layer (type)                 Output Shape              Param #   \n",
      "=================================================================\n",
      "embedding (Embedding)        (None, 300, 100)          1000000   \n",
      "_________________________________________________________________\n",
      "lstm (LSTM)                  (None, 300, 128)          117248    \n",
      "_________________________________________________________________\n",
      "lstm_1 (LSTM)                (None, 64)                49408     \n",
      "_________________________________________________________________\n",
      "dense (Dense)                (None, 32)                2080      \n",
      "_________________________________________________________________\n",
      "dense_1 (Dense)              (None, 1)                 33        \n",
      "=================================================================\n",
      "Total params: 1,168,769\n",
      "Trainable params: 168,769\n",
      "Non-trainable params: 1,000,000\n",
      "_________________________________________________________________\n"
     ]
    }
   ],
   "source": [
    "model.summary()"
   ]
  },
  {
   "cell_type": "code",
   "execution_count": 27,
   "id": "580bc8cc",
   "metadata": {},
   "outputs": [
    {
     "name": "stdout",
     "output_type": "stream",
     "text": [
      "Epoch 1/10\n",
      "74/74 [==============================] - 496s 7s/step - loss: 0.4838 - accuracy: 0.7440 - val_loss: 0.3430 - val_accuracy: 0.8524\n",
      "Epoch 2/10\n",
      "74/74 [==============================] - 511s 7s/step - loss: 0.3170 - accuracy: 0.8647 - val_loss: 0.2648 - val_accuracy: 0.8905\n",
      "Epoch 3/10\n",
      "74/74 [==============================] - 531s 7s/step - loss: 0.2870 - accuracy: 0.8749 - val_loss: 0.2380 - val_accuracy: 0.9001\n",
      "Epoch 4/10\n",
      "74/74 [==============================] - 539s 7s/step - loss: 0.3206 - accuracy: 0.8680 - val_loss: 0.3227 - val_accuracy: 0.8655\n",
      "Epoch 5/10\n",
      "74/74 [==============================] - 547s 7s/step - loss: 0.2391 - accuracy: 0.9068 - val_loss: 0.2165 - val_accuracy: 0.9223\n",
      "Epoch 6/10\n",
      "74/74 [==============================] - 571s 8s/step - loss: 0.1305 - accuracy: 0.9551 - val_loss: 0.0399 - val_accuracy: 0.9852\n",
      "Epoch 7/10\n",
      "74/74 [==============================] - 653s 9s/step - loss: 0.0461 - accuracy: 0.9832 - val_loss: 0.0398 - val_accuracy: 0.9853\n",
      "Epoch 8/10\n",
      "74/74 [==============================] - 691s 9s/step - loss: 0.0385 - accuracy: 0.9851 - val_loss: 0.0305 - val_accuracy: 0.9887\n",
      "Epoch 9/10\n",
      "74/74 [==============================] - 711s 10s/step - loss: 0.0364 - accuracy: 0.9863 - val_loss: 0.0341 - val_accuracy: 0.9873\n",
      "Epoch 10/10\n",
      "74/74 [==============================] - 723s 10s/step - loss: 0.0330 - accuracy: 0.9873 - val_loss: 0.0292 - val_accuracy: 0.9892\n"
     ]
    }
   ],
   "source": [
    "history = model.fit(X_train, y_train, validation_split=0.3, epochs=10, batch_size=batch_size, shuffle=True, verbose = 1)"
   ]
  },
  {
   "cell_type": "markdown",
   "id": "da5a5df6",
   "metadata": {},
   "source": [
    "# Testing"
   ]
  },
  {
   "cell_type": "code",
   "execution_count": 28,
   "id": "55f80e2b",
   "metadata": {},
   "outputs": [
    {
     "name": "stdout",
     "output_type": "stream",
     "text": [
      "842/842 [==============================] - 53s 63ms/step - loss: 0.0270 - accuracy: 0.9897\n",
      "Accuracy of the model on Training Data is -  98.97167682647705 %\n",
      "281/281 [==============================] - 18s 62ms/step - loss: 0.0342 - accuracy: 0.9874\n",
      "Accuracy of the model on Testing Data is -  98.74165058135986 %\n"
     ]
    }
   ],
   "source": [
    "print(\"Accuracy of the model on Training Data is - \" , model.evaluate(X_train,y_train)[1]*100 , \"%\")\n",
    "print(\"Accuracy of the model on Testing Data is - \" , model.evaluate(X_test,y_test)[1]*100 , \"%\")"
   ]
  },
  {
   "cell_type": "code",
   "execution_count": 29,
   "id": "8d565a98",
   "metadata": {},
   "outputs": [
    {
     "data": {
      "image/png": "[encoded data removed]",
      "text/plain": [
       "<Figure size 432x288 with 1 Axes>"
      ]
     },
     "metadata": {
      "needs_background": "light"
     },
     "output_type": "display_data"
    }
   ],
   "source": [
    "plt.figure()\n",
    "plt.plot(history.history[\"accuracy\"], label = \"Train\")\n",
    "plt.plot(history.history[\"val_accuracy\"], label = \"Test\")\n",
    "plt.title(\"Accuracy\")\n",
    "plt.ylabel(\"Acc\")\n",
    "plt.xlabel(\"epochs\")\n",
    "plt.legend()\n",
    "plt.show()"
   ]
  },
  {
   "cell_type": "code",
   "execution_count": 30,
   "id": "69b65480",
   "metadata": {},
   "outputs": [
    {
     "data": {
      "image/png": "[encoded data removed]",
      "text/plain": [
       "<Figure size 432x288 with 1 Axes>"
      ]
     },
     "metadata": {
      "needs_background": "light"
     },
     "output_type": "display_data"
    }
   ],
   "source": [
    "plt.figure()\n",
    "plt.plot(history.history[\"loss\"], label = \"Train\")\n",
    "plt.plot(history.history[\"val_loss\"], label = \"Test\")\n",
    "plt.title(\"Loss\")\n",
    "plt.ylabel(\"Acc\")\n",
    "plt.xlabel(\"epochs\")\n",
    "plt.legend()\n",
    "plt.show()"
   ]
  },
  {
   "cell_type": "markdown",
   "id": "df69bb9d",
   "metadata": {},
   "source": [
    "# Kaggle Testing part"
   ]
  },
  {
   "cell_type": "code",
   "execution_count": null,
   "id": "32f85020",
   "metadata": {},
   "outputs": [],
   "source": []
  },
  {
   "cell_type": "code",
   "execution_count": 338,
   "id": "fafaebe4",
   "metadata": {},
   "outputs": [
    {
     "name": "stdout",
     "output_type": "stream",
     "text": [
      "8981\n"
     ]
    },
    {
     "name": "stderr",
     "output_type": "stream",
     "text": [
      "C:\\Users\\9hsun\\anaconda3\\envs\\news_keras_env37\\lib\\site-packages\\IPython\\core\\interactiveshell.py:3166: DtypeWarning: Columns (87,88,89,90,91,92,93,94,95,96,97,98,99,100,101,102,103,104,105,106,107,108,109,110,111,112,113,114,115,116,117,118,119,120,121,122,123,124,125,126,127,128,129,130,131,132,133,134,135,136,137,138,139,140,141,142,143,144,145,146,147,148,149,150) have mixed types.Specify dtype option on import or set low_memory=False.\n",
      "  interactivity=interactivity, compiler=compiler, result=result)\n"
     ]
    }
   ],
   "source": [
    "test_df = pd.read_csv('D:/資料科學應用/project/project_data_test_revise.csv')\n",
    "print(len(test_df))"
   ]
  },
  {
   "cell_type": "code",
   "execution_count": 339,
   "id": "5b648acc",
   "metadata": {},
   "outputs": [
    {
     "data": {
      "text/html": [
       "<div>\n",
       "<style scoped>\n",
       "    .dataframe tbody tr th:only-of-type {\n",
       "        vertical-align: middle;\n",
       "    }\n",
       "\n",
       "    .dataframe tbody tr th {\n",
       "        vertical-align: top;\n",
       "    }\n",
       "\n",
       "    .dataframe thead th {\n",
       "        text-align: right;\n",
       "    }\n",
       "</style>\n",
       "<table border=\"1\" class=\"dataframe\">\n",
       "  <thead>\n",
       "    <tr style=\"text-align: right;\">\n",
       "      <th></th>\n",
       "      <th>ID</th>\n",
       "      <th>title</th>\n",
       "      <th>text</th>\n",
       "      <th>subject</th>\n",
       "      <th>date</th>\n",
       "      <th>Unnamed: 5</th>\n",
       "      <th>Unnamed: 6</th>\n",
       "      <th>Unnamed: 7</th>\n",
       "      <th>Unnamed: 8</th>\n",
       "      <th>Unnamed: 9</th>\n",
       "      <th>...</th>\n",
       "      <th>Unnamed: 141</th>\n",
       "      <th>Unnamed: 142</th>\n",
       "      <th>Unnamed: 143</th>\n",
       "      <th>Unnamed: 144</th>\n",
       "      <th>Unnamed: 145</th>\n",
       "      <th>Unnamed: 146</th>\n",
       "      <th>Unnamed: 147</th>\n",
       "      <th>Unnamed: 148</th>\n",
       "      <th>Unnamed: 149</th>\n",
       "      <th>Unnamed: 150</th>\n",
       "    </tr>\n",
       "  </thead>\n",
       "  <tbody>\n",
       "    <tr>\n",
       "      <th>0</th>\n",
       "      <td>0</td>\n",
       "      <td>Democrats' draft platform calls for reviews of...</td>\n",
       "      <td>WASHINGTON (Reuters) - The U.S. Democratic Par...</td>\n",
       "      <td>politicsNews</td>\n",
       "      <td>1-Jul-16</td>\n",
       "      <td>NaN</td>\n",
       "      <td>NaN</td>\n",
       "      <td>NaN</td>\n",
       "      <td>NaN</td>\n",
       "      <td>NaN</td>\n",
       "      <td>...</td>\n",
       "      <td>NaN</td>\n",
       "      <td>NaN</td>\n",
       "      <td>NaN</td>\n",
       "      <td>NaN</td>\n",
       "      <td>NaN</td>\n",
       "      <td>NaN</td>\n",
       "      <td>NaN</td>\n",
       "      <td>NaN</td>\n",
       "      <td>NaN</td>\n",
       "      <td>NaN</td>\n",
       "    </tr>\n",
       "    <tr>\n",
       "      <th>1</th>\n",
       "      <td>1</td>\n",
       "      <td>Clinton expands lead over Trump to 13 points: ...</td>\n",
       "      <td>NEW YORK (Reuters) - Democratic presidential c...</td>\n",
       "      <td>politicsNews</td>\n",
       "      <td>5-Jul-16</td>\n",
       "      <td>NaN</td>\n",
       "      <td>NaN</td>\n",
       "      <td>NaN</td>\n",
       "      <td>NaN</td>\n",
       "      <td>NaN</td>\n",
       "      <td>...</td>\n",
       "      <td>NaN</td>\n",
       "      <td>NaN</td>\n",
       "      <td>NaN</td>\n",
       "      <td>NaN</td>\n",
       "      <td>NaN</td>\n",
       "      <td>NaN</td>\n",
       "      <td>NaN</td>\n",
       "      <td>NaN</td>\n",
       "      <td>NaN</td>\n",
       "      <td>NaN</td>\n",
       "    </tr>\n",
       "    <tr>\n",
       "      <th>2</th>\n",
       "      <td>2</td>\n",
       "      <td>SUNDAY SCREENING: CIA Secret Experiments (2008)</td>\n",
       "      <td>21st Century Wire says Every Sunday, our edito...</td>\n",
       "      <td>Middle-east</td>\n",
       "      <td>22-May-16</td>\n",
       "      <td>NaN</td>\n",
       "      <td>NaN</td>\n",
       "      <td>NaN</td>\n",
       "      <td>NaN</td>\n",
       "      <td>NaN</td>\n",
       "      <td>...</td>\n",
       "      <td>NaN</td>\n",
       "      <td>NaN</td>\n",
       "      <td>NaN</td>\n",
       "      <td>NaN</td>\n",
       "      <td>NaN</td>\n",
       "      <td>NaN</td>\n",
       "      <td>NaN</td>\n",
       "      <td>NaN</td>\n",
       "      <td>NaN</td>\n",
       "      <td>NaN</td>\n",
       "    </tr>\n",
       "    <tr>\n",
       "      <th>3</th>\n",
       "      <td>3</td>\n",
       "      <td>House Democratic leader Pelosi says intel pane...</td>\n",
       "      <td>WASHINGTON (Reuters) - U.S. House of Represent...</td>\n",
       "      <td>politicsNews</td>\n",
       "      <td>28-Mar-17</td>\n",
       "      <td>NaN</td>\n",
       "      <td>NaN</td>\n",
       "      <td>NaN</td>\n",
       "      <td>NaN</td>\n",
       "      <td>NaN</td>\n",
       "      <td>...</td>\n",
       "      <td>NaN</td>\n",
       "      <td>NaN</td>\n",
       "      <td>NaN</td>\n",
       "      <td>NaN</td>\n",
       "      <td>NaN</td>\n",
       "      <td>NaN</td>\n",
       "      <td>NaN</td>\n",
       "      <td>NaN</td>\n",
       "      <td>NaN</td>\n",
       "      <td>NaN</td>\n",
       "    </tr>\n",
       "    <tr>\n",
       "      <th>4</th>\n",
       "      <td>4</td>\n",
       "      <td>(VIDEO) UNBELIEVABLE! BLACK JUDGE BERATES VICT...</td>\n",
       "      <td>You won t believe this judge and how he berate...</td>\n",
       "      <td>Government News</td>\n",
       "      <td>12-Apr-15</td>\n",
       "      <td>NaN</td>\n",
       "      <td>NaN</td>\n",
       "      <td>NaN</td>\n",
       "      <td>NaN</td>\n",
       "      <td>NaN</td>\n",
       "      <td>...</td>\n",
       "      <td>NaN</td>\n",
       "      <td>NaN</td>\n",
       "      <td>NaN</td>\n",
       "      <td>NaN</td>\n",
       "      <td>NaN</td>\n",
       "      <td>NaN</td>\n",
       "      <td>NaN</td>\n",
       "      <td>NaN</td>\n",
       "      <td>NaN</td>\n",
       "      <td>NaN</td>\n",
       "    </tr>\n",
       "  </tbody>\n",
       "</table>\n",
       "<p>5 rows × 151 columns</p>\n",
       "</div>"
      ],
      "text/plain": [
       "   ID                                              title  \\\n",
       "0   0  Democrats' draft platform calls for reviews of...   \n",
       "1   1  Clinton expands lead over Trump to 13 points: ...   \n",
       "2   2    SUNDAY SCREENING: CIA Secret Experiments (2008)   \n",
       "3   3  House Democratic leader Pelosi says intel pane...   \n",
       "4   4  (VIDEO) UNBELIEVABLE! BLACK JUDGE BERATES VICT...   \n",
       "\n",
       "                                                text          subject  \\\n",
       "0  WASHINGTON (Reuters) - The U.S. Democratic Par...     politicsNews   \n",
       "1  NEW YORK (Reuters) - Democratic presidential c...     politicsNews   \n",
       "2  21st Century Wire says Every Sunday, our edito...      Middle-east   \n",
       "3  WASHINGTON (Reuters) - U.S. House of Represent...     politicsNews   \n",
       "4  You won t believe this judge and how he berate...  Government News   \n",
       "\n",
       "        date Unnamed: 5 Unnamed: 6 Unnamed: 7 Unnamed: 8 Unnamed: 9  ...  \\\n",
       "0   1-Jul-16        NaN        NaN        NaN        NaN        NaN  ...   \n",
       "1   5-Jul-16        NaN        NaN        NaN        NaN        NaN  ...   \n",
       "2  22-May-16        NaN        NaN        NaN        NaN        NaN  ...   \n",
       "3  28-Mar-17        NaN        NaN        NaN        NaN        NaN  ...   \n",
       "4  12-Apr-15        NaN        NaN        NaN        NaN        NaN  ...   \n",
       "\n",
       "  Unnamed: 141 Unnamed: 142 Unnamed: 143 Unnamed: 144 Unnamed: 145  \\\n",
       "0          NaN          NaN          NaN          NaN          NaN   \n",
       "1          NaN          NaN          NaN          NaN          NaN   \n",
       "2          NaN          NaN          NaN          NaN          NaN   \n",
       "3          NaN          NaN          NaN          NaN          NaN   \n",
       "4          NaN          NaN          NaN          NaN          NaN   \n",
       "\n",
       "  Unnamed: 146 Unnamed: 147 Unnamed: 148 Unnamed: 149 Unnamed: 150  \n",
       "0          NaN          NaN          NaN          NaN          NaN  \n",
       "1          NaN          NaN          NaN          NaN          NaN  \n",
       "2          NaN          NaN          NaN          NaN          NaN  \n",
       "3          NaN          NaN          NaN          NaN          NaN  \n",
       "4          NaN          NaN          NaN          NaN          NaN  \n",
       "\n",
       "[5 rows x 151 columns]"
      ]
     },
     "execution_count": 339,
     "metadata": {},
     "output_type": "execute_result"
    }
   ],
   "source": [
    "test_df.head()"
   ]
  },
  {
   "cell_type": "code",
   "execution_count": 269,
   "id": "e44bc201",
   "metadata": {},
   "outputs": [
    {
     "name": "stdout",
     "output_type": "stream",
     "text": [
      "367\n"
     ]
    }
   ],
   "source": [
    "# print(test_df.iloc[:,5].notnull().sum())\n",
    "# indexNames = test_df[ test_df.iloc[:,5].notnull() ].index"
   ]
  },
  {
   "cell_type": "code",
   "execution_count": 270,
   "id": "1868e5f1",
   "metadata": {},
   "outputs": [
    {
     "data": {
      "text/plain": [
       "Int64Index([   8,   52,   55,  137,  188,  193,  211,  221,  248,  271,\n",
       "            ...\n",
       "            8814, 8821, 8848, 8859, 8876, 8895, 8915, 8952, 8959, 8963],\n",
       "           dtype='int64', length=367)"
      ]
     },
     "execution_count": 270,
     "metadata": {},
     "output_type": "execute_result"
    }
   ],
   "source": [
    "# indexNames"
   ]
  },
  {
   "cell_type": "code",
   "execution_count": 271,
   "id": "3e0f5093",
   "metadata": {},
   "outputs": [
    {
     "name": "stdout",
     "output_type": "stream",
     "text": [
      "8618\n"
     ]
    }
   ],
   "source": [
    "# test_df.drop(indexNames , inplace=True)\n",
    "# print(len(test_df))"
   ]
  },
  {
   "cell_type": "code",
   "execution_count": 272,
   "id": "1fa3d201",
   "metadata": {},
   "outputs": [
    {
     "data": {
      "text/plain": [
       "ID                 0\n",
       "title              0\n",
       "text               0\n",
       "subject            9\n",
       "date              28\n",
       "                ... \n",
       "Unnamed: 146    8618\n",
       "Unnamed: 147    8618\n",
       "Unnamed: 148    8618\n",
       "Unnamed: 149    8618\n",
       "Unnamed: 150    8618\n",
       "Length: 151, dtype: int64"
      ]
     },
     "execution_count": 272,
     "metadata": {},
     "output_type": "execute_result"
    }
   ],
   "source": [
    "# test_df.isnull().sum()"
   ]
  },
  {
   "cell_type": "code",
   "execution_count": 273,
   "id": "9b0d11f9",
   "metadata": {},
   "outputs": [
    {
     "data": {
      "text/plain": [
       "Int64Index([523, 1011, 2298, 3020, 3882, 4419, 5577, 6303, 7130], dtype='int64')"
      ]
     },
     "execution_count": 273,
     "metadata": {},
     "output_type": "execute_result"
    }
   ],
   "source": [
    "# indexNames = test_df[ test_df.iloc[:,3].isnull() ].index\n",
    "# indexNames"
   ]
  },
  {
   "cell_type": "code",
   "execution_count": 274,
   "id": "1f2ed0c7",
   "metadata": {},
   "outputs": [
    {
     "name": "stdout",
     "output_type": "stream",
     "text": [
      "8609\n"
     ]
    }
   ],
   "source": [
    "# test_df.drop(indexNames , inplace=True)\n",
    "# print(len(test_df))"
   ]
  },
  {
   "cell_type": "code",
   "execution_count": 317,
   "id": "bb091a69",
   "metadata": {},
   "outputs": [
    {
     "name": "stdout",
     "output_type": "stream",
     "text": [
      "['5', '6', '7', '8', '9', '10', '11', '12', '13', '14', '15', '16', '17', '18', '19', '20', '21', '22', '23', '24', '25', '26', '27', '28', '29', '30', '31', '32', '33', '34', '35', '36', '37', '38', '39', '40', '41', '42', '43', '44', '45', '46', '47', '48', '49', '50', '51', '52', '53', '54', '55', '56', '57', '58', '59', '60', '61', '62', '63', '64', '65', '66', '67', '68', '69', '70', '71', '72', '73', '74', '75', '76', '77', '78', '79', '80', '81', '82', '83', '84', '85', '86', '87', '88', '89', '90', '91', '92', '93', '94', '95', '96', '97', '98', '99', '100', '101', '102', '103', '104', '105', '106', '107', '108', '109', '110', '111', '112', '113', '114', '115', '116', '117', '118', '119', '120', '121', '122', '123', '124', '125', '126', '127', '128', '129', '130', '131', '132', '133', '134', '135', '136', '137', '138', '139', '140', '141', '142', '143', '144', '145', '146', '147', '148', '149', '150']\n"
     ]
    }
   ],
   "source": [
    "# r = range(5,151)\n",
    "# r = list(r)\n",
    "\n",
    "# for i in range(len(r)):\n",
    "#       r[i] = str(r[i])\n",
    "# print(r)\n",
    "# #print(list(str(r)))"
   ]
  },
  {
   "cell_type": "code",
   "execution_count": 319,
   "id": "dd22f55f",
   "metadata": {},
   "outputs": [],
   "source": [
    "# column_indices = list(range(5,151))\n",
    "# new_names = r\n",
    "# old_names = test_df.columns[column_indices]\n",
    "# test_df.rename(columns=dict(zip(old_names, new_names)), inplace=True)"
   ]
  },
  {
   "cell_type": "code",
   "execution_count": 340,
   "id": "0ac986b4",
   "metadata": {},
   "outputs": [
    {
     "name": "stdout",
     "output_type": "stream",
     "text": [
      "8981\n"
     ]
    },
    {
     "data": {
      "text/html": [
       "<div>\n",
       "<style scoped>\n",
       "    .dataframe tbody tr th:only-of-type {\n",
       "        vertical-align: middle;\n",
       "    }\n",
       "\n",
       "    .dataframe tbody tr th {\n",
       "        vertical-align: top;\n",
       "    }\n",
       "\n",
       "    .dataframe thead th {\n",
       "        text-align: right;\n",
       "    }\n",
       "</style>\n",
       "<table border=\"1\" class=\"dataframe\">\n",
       "  <thead>\n",
       "    <tr style=\"text-align: right;\">\n",
       "      <th></th>\n",
       "      <th>ID</th>\n",
       "      <th>title</th>\n",
       "      <th>text</th>\n",
       "      <th>subject</th>\n",
       "      <th>date</th>\n",
       "      <th>Unnamed: 5</th>\n",
       "      <th>Unnamed: 6</th>\n",
       "      <th>Unnamed: 7</th>\n",
       "      <th>Unnamed: 8</th>\n",
       "      <th>Unnamed: 9</th>\n",
       "      <th>...</th>\n",
       "      <th>Unnamed: 141</th>\n",
       "      <th>Unnamed: 142</th>\n",
       "      <th>Unnamed: 143</th>\n",
       "      <th>Unnamed: 144</th>\n",
       "      <th>Unnamed: 145</th>\n",
       "      <th>Unnamed: 146</th>\n",
       "      <th>Unnamed: 147</th>\n",
       "      <th>Unnamed: 148</th>\n",
       "      <th>Unnamed: 149</th>\n",
       "      <th>Unnamed: 150</th>\n",
       "    </tr>\n",
       "  </thead>\n",
       "  <tbody>\n",
       "    <tr>\n",
       "      <th>0</th>\n",
       "      <td>0</td>\n",
       "      <td>Democrats' draft platform calls for reviews of...</td>\n",
       "      <td>WASHINGTON (Reuters) - The U.S. Democratic Par...</td>\n",
       "      <td>politicsNews</td>\n",
       "      <td>1-Jul-16</td>\n",
       "      <td>0</td>\n",
       "      <td>0</td>\n",
       "      <td>0</td>\n",
       "      <td>0</td>\n",
       "      <td>0</td>\n",
       "      <td>...</td>\n",
       "      <td>0</td>\n",
       "      <td>0</td>\n",
       "      <td>0</td>\n",
       "      <td>0</td>\n",
       "      <td>0</td>\n",
       "      <td>0</td>\n",
       "      <td>0</td>\n",
       "      <td>0</td>\n",
       "      <td>0</td>\n",
       "      <td>0</td>\n",
       "    </tr>\n",
       "    <tr>\n",
       "      <th>1</th>\n",
       "      <td>1</td>\n",
       "      <td>Clinton expands lead over Trump to 13 points: ...</td>\n",
       "      <td>NEW YORK (Reuters) - Democratic presidential c...</td>\n",
       "      <td>politicsNews</td>\n",
       "      <td>5-Jul-16</td>\n",
       "      <td>0</td>\n",
       "      <td>0</td>\n",
       "      <td>0</td>\n",
       "      <td>0</td>\n",
       "      <td>0</td>\n",
       "      <td>...</td>\n",
       "      <td>0</td>\n",
       "      <td>0</td>\n",
       "      <td>0</td>\n",
       "      <td>0</td>\n",
       "      <td>0</td>\n",
       "      <td>0</td>\n",
       "      <td>0</td>\n",
       "      <td>0</td>\n",
       "      <td>0</td>\n",
       "      <td>0</td>\n",
       "    </tr>\n",
       "    <tr>\n",
       "      <th>2</th>\n",
       "      <td>2</td>\n",
       "      <td>SUNDAY SCREENING: CIA Secret Experiments (2008)</td>\n",
       "      <td>21st Century Wire says Every Sunday, our edito...</td>\n",
       "      <td>Middle-east</td>\n",
       "      <td>22-May-16</td>\n",
       "      <td>0</td>\n",
       "      <td>0</td>\n",
       "      <td>0</td>\n",
       "      <td>0</td>\n",
       "      <td>0</td>\n",
       "      <td>...</td>\n",
       "      <td>0</td>\n",
       "      <td>0</td>\n",
       "      <td>0</td>\n",
       "      <td>0</td>\n",
       "      <td>0</td>\n",
       "      <td>0</td>\n",
       "      <td>0</td>\n",
       "      <td>0</td>\n",
       "      <td>0</td>\n",
       "      <td>0</td>\n",
       "    </tr>\n",
       "    <tr>\n",
       "      <th>3</th>\n",
       "      <td>3</td>\n",
       "      <td>House Democratic leader Pelosi says intel pane...</td>\n",
       "      <td>WASHINGTON (Reuters) - U.S. House of Represent...</td>\n",
       "      <td>politicsNews</td>\n",
       "      <td>28-Mar-17</td>\n",
       "      <td>0</td>\n",
       "      <td>0</td>\n",
       "      <td>0</td>\n",
       "      <td>0</td>\n",
       "      <td>0</td>\n",
       "      <td>...</td>\n",
       "      <td>0</td>\n",
       "      <td>0</td>\n",
       "      <td>0</td>\n",
       "      <td>0</td>\n",
       "      <td>0</td>\n",
       "      <td>0</td>\n",
       "      <td>0</td>\n",
       "      <td>0</td>\n",
       "      <td>0</td>\n",
       "      <td>0</td>\n",
       "    </tr>\n",
       "    <tr>\n",
       "      <th>4</th>\n",
       "      <td>4</td>\n",
       "      <td>(VIDEO) UNBELIEVABLE! BLACK JUDGE BERATES VICT...</td>\n",
       "      <td>You won t believe this judge and how he berate...</td>\n",
       "      <td>Government News</td>\n",
       "      <td>12-Apr-15</td>\n",
       "      <td>0</td>\n",
       "      <td>0</td>\n",
       "      <td>0</td>\n",
       "      <td>0</td>\n",
       "      <td>0</td>\n",
       "      <td>...</td>\n",
       "      <td>0</td>\n",
       "      <td>0</td>\n",
       "      <td>0</td>\n",
       "      <td>0</td>\n",
       "      <td>0</td>\n",
       "      <td>0</td>\n",
       "      <td>0</td>\n",
       "      <td>0</td>\n",
       "      <td>0</td>\n",
       "      <td>0</td>\n",
       "    </tr>\n",
       "  </tbody>\n",
       "</table>\n",
       "<p>5 rows × 151 columns</p>\n",
       "</div>"
      ],
      "text/plain": [
       "   ID                                              title  \\\n",
       "0   0  Democrats' draft platform calls for reviews of...   \n",
       "1   1  Clinton expands lead over Trump to 13 points: ...   \n",
       "2   2    SUNDAY SCREENING: CIA Secret Experiments (2008)   \n",
       "3   3  House Democratic leader Pelosi says intel pane...   \n",
       "4   4  (VIDEO) UNBELIEVABLE! BLACK JUDGE BERATES VICT...   \n",
       "\n",
       "                                                text          subject  \\\n",
       "0  WASHINGTON (Reuters) - The U.S. Democratic Par...     politicsNews   \n",
       "1  NEW YORK (Reuters) - Democratic presidential c...     politicsNews   \n",
       "2  21st Century Wire says Every Sunday, our edito...      Middle-east   \n",
       "3  WASHINGTON (Reuters) - U.S. House of Represent...     politicsNews   \n",
       "4  You won t believe this judge and how he berate...  Government News   \n",
       "\n",
       "        date Unnamed: 5 Unnamed: 6 Unnamed: 7 Unnamed: 8 Unnamed: 9  ...  \\\n",
       "0   1-Jul-16          0          0          0          0          0  ...   \n",
       "1   5-Jul-16          0          0          0          0          0  ...   \n",
       "2  22-May-16          0          0          0          0          0  ...   \n",
       "3  28-Mar-17          0          0          0          0          0  ...   \n",
       "4  12-Apr-15          0          0          0          0          0  ...   \n",
       "\n",
       "  Unnamed: 141 Unnamed: 142 Unnamed: 143 Unnamed: 144 Unnamed: 145  \\\n",
       "0            0            0            0            0            0   \n",
       "1            0            0            0            0            0   \n",
       "2            0            0            0            0            0   \n",
       "3            0            0            0            0            0   \n",
       "4            0            0            0            0            0   \n",
       "\n",
       "  Unnamed: 146 Unnamed: 147 Unnamed: 148 Unnamed: 149 Unnamed: 150  \n",
       "0            0            0            0            0            0  \n",
       "1            0            0            0            0            0  \n",
       "2            0            0            0            0            0  \n",
       "3            0            0            0            0            0  \n",
       "4            0            0            0            0            0  \n",
       "\n",
       "[5 rows x 151 columns]"
      ]
     },
     "execution_count": 340,
     "metadata": {},
     "output_type": "execute_result"
    }
   ],
   "source": [
    "test_df = test_df.fillna(value = str(0))\n",
    "print(len(test_df))\n",
    "test_df.head()"
   ]
  },
  {
   "cell_type": "code",
   "execution_count": 341,
   "id": "990da7bf",
   "metadata": {},
   "outputs": [
    {
     "data": {
      "text/plain": [
       "ID              0\n",
       "title           0\n",
       "text            0\n",
       "subject         0\n",
       "date            0\n",
       "               ..\n",
       "Unnamed: 146    0\n",
       "Unnamed: 147    0\n",
       "Unnamed: 148    0\n",
       "Unnamed: 149    0\n",
       "Unnamed: 150    0\n",
       "Length: 151, dtype: int64"
      ]
     },
     "execution_count": 341,
     "metadata": {},
     "output_type": "execute_result"
    }
   ],
   "source": [
    "test_df.isnull().sum()"
   ]
  },
  {
   "cell_type": "code",
   "execution_count": 342,
   "id": "2f7d4baa",
   "metadata": {},
   "outputs": [
    {
     "name": "stdout",
     "output_type": "stream",
     "text": [
      "8981\n"
     ]
    },
    {
     "data": {
      "text/html": [
       "<div>\n",
       "<style scoped>\n",
       "    .dataframe tbody tr th:only-of-type {\n",
       "        vertical-align: middle;\n",
       "    }\n",
       "\n",
       "    .dataframe tbody tr th {\n",
       "        vertical-align: top;\n",
       "    }\n",
       "\n",
       "    .dataframe thead th {\n",
       "        text-align: right;\n",
       "    }\n",
       "</style>\n",
       "<table border=\"1\" class=\"dataframe\">\n",
       "  <thead>\n",
       "    <tr style=\"text-align: right;\">\n",
       "      <th></th>\n",
       "      <th>text</th>\n",
       "      <th>Unnamed: 5</th>\n",
       "      <th>Unnamed: 6</th>\n",
       "      <th>Unnamed: 7</th>\n",
       "      <th>Unnamed: 8</th>\n",
       "      <th>Unnamed: 9</th>\n",
       "      <th>Unnamed: 10</th>\n",
       "      <th>Unnamed: 11</th>\n",
       "      <th>Unnamed: 12</th>\n",
       "      <th>Unnamed: 13</th>\n",
       "      <th>...</th>\n",
       "      <th>Unnamed: 141</th>\n",
       "      <th>Unnamed: 142</th>\n",
       "      <th>Unnamed: 143</th>\n",
       "      <th>Unnamed: 144</th>\n",
       "      <th>Unnamed: 145</th>\n",
       "      <th>Unnamed: 146</th>\n",
       "      <th>Unnamed: 147</th>\n",
       "      <th>Unnamed: 148</th>\n",
       "      <th>Unnamed: 149</th>\n",
       "      <th>Unnamed: 150</th>\n",
       "    </tr>\n",
       "  </thead>\n",
       "  <tbody>\n",
       "    <tr>\n",
       "      <th>0</th>\n",
       "      <td>politicsNews Democrats' draft platform calls f...</td>\n",
       "      <td>0</td>\n",
       "      <td>0</td>\n",
       "      <td>0</td>\n",
       "      <td>0</td>\n",
       "      <td>0</td>\n",
       "      <td>0</td>\n",
       "      <td>0</td>\n",
       "      <td>0</td>\n",
       "      <td>0</td>\n",
       "      <td>...</td>\n",
       "      <td>0</td>\n",
       "      <td>0</td>\n",
       "      <td>0</td>\n",
       "      <td>0</td>\n",
       "      <td>0</td>\n",
       "      <td>0</td>\n",
       "      <td>0</td>\n",
       "      <td>0</td>\n",
       "      <td>0</td>\n",
       "      <td>0</td>\n",
       "    </tr>\n",
       "    <tr>\n",
       "      <th>1</th>\n",
       "      <td>politicsNews Clinton expands lead over Trump t...</td>\n",
       "      <td>0</td>\n",
       "      <td>0</td>\n",
       "      <td>0</td>\n",
       "      <td>0</td>\n",
       "      <td>0</td>\n",
       "      <td>0</td>\n",
       "      <td>0</td>\n",
       "      <td>0</td>\n",
       "      <td>0</td>\n",
       "      <td>...</td>\n",
       "      <td>0</td>\n",
       "      <td>0</td>\n",
       "      <td>0</td>\n",
       "      <td>0</td>\n",
       "      <td>0</td>\n",
       "      <td>0</td>\n",
       "      <td>0</td>\n",
       "      <td>0</td>\n",
       "      <td>0</td>\n",
       "      <td>0</td>\n",
       "    </tr>\n",
       "    <tr>\n",
       "      <th>2</th>\n",
       "      <td>Middle-east SUNDAY SCREENING: CIA Secret Exper...</td>\n",
       "      <td>0</td>\n",
       "      <td>0</td>\n",
       "      <td>0</td>\n",
       "      <td>0</td>\n",
       "      <td>0</td>\n",
       "      <td>0</td>\n",
       "      <td>0</td>\n",
       "      <td>0</td>\n",
       "      <td>0</td>\n",
       "      <td>...</td>\n",
       "      <td>0</td>\n",
       "      <td>0</td>\n",
       "      <td>0</td>\n",
       "      <td>0</td>\n",
       "      <td>0</td>\n",
       "      <td>0</td>\n",
       "      <td>0</td>\n",
       "      <td>0</td>\n",
       "      <td>0</td>\n",
       "      <td>0</td>\n",
       "    </tr>\n",
       "    <tr>\n",
       "      <th>3</th>\n",
       "      <td>politicsNews House Democratic leader Pelosi sa...</td>\n",
       "      <td>0</td>\n",
       "      <td>0</td>\n",
       "      <td>0</td>\n",
       "      <td>0</td>\n",
       "      <td>0</td>\n",
       "      <td>0</td>\n",
       "      <td>0</td>\n",
       "      <td>0</td>\n",
       "      <td>0</td>\n",
       "      <td>...</td>\n",
       "      <td>0</td>\n",
       "      <td>0</td>\n",
       "      <td>0</td>\n",
       "      <td>0</td>\n",
       "      <td>0</td>\n",
       "      <td>0</td>\n",
       "      <td>0</td>\n",
       "      <td>0</td>\n",
       "      <td>0</td>\n",
       "      <td>0</td>\n",
       "    </tr>\n",
       "    <tr>\n",
       "      <th>4</th>\n",
       "      <td>Government News (VIDEO) UNBELIEVABLE! BLACK JU...</td>\n",
       "      <td>0</td>\n",
       "      <td>0</td>\n",
       "      <td>0</td>\n",
       "      <td>0</td>\n",
       "      <td>0</td>\n",
       "      <td>0</td>\n",
       "      <td>0</td>\n",
       "      <td>0</td>\n",
       "      <td>0</td>\n",
       "      <td>...</td>\n",
       "      <td>0</td>\n",
       "      <td>0</td>\n",
       "      <td>0</td>\n",
       "      <td>0</td>\n",
       "      <td>0</td>\n",
       "      <td>0</td>\n",
       "      <td>0</td>\n",
       "      <td>0</td>\n",
       "      <td>0</td>\n",
       "      <td>0</td>\n",
       "    </tr>\n",
       "  </tbody>\n",
       "</table>\n",
       "<p>5 rows × 147 columns</p>\n",
       "</div>"
      ],
      "text/plain": [
       "                                                text Unnamed: 5 Unnamed: 6  \\\n",
       "0  politicsNews Democrats' draft platform calls f...          0          0   \n",
       "1  politicsNews Clinton expands lead over Trump t...          0          0   \n",
       "2  Middle-east SUNDAY SCREENING: CIA Secret Exper...          0          0   \n",
       "3  politicsNews House Democratic leader Pelosi sa...          0          0   \n",
       "4  Government News (VIDEO) UNBELIEVABLE! BLACK JU...          0          0   \n",
       "\n",
       "  Unnamed: 7 Unnamed: 8 Unnamed: 9 Unnamed: 10 Unnamed: 11 Unnamed: 12  \\\n",
       "0          0          0          0           0           0           0   \n",
       "1          0          0          0           0           0           0   \n",
       "2          0          0          0           0           0           0   \n",
       "3          0          0          0           0           0           0   \n",
       "4          0          0          0           0           0           0   \n",
       "\n",
       "  Unnamed: 13  ... Unnamed: 141 Unnamed: 142 Unnamed: 143 Unnamed: 144  \\\n",
       "0           0  ...            0            0            0            0   \n",
       "1           0  ...            0            0            0            0   \n",
       "2           0  ...            0            0            0            0   \n",
       "3           0  ...            0            0            0            0   \n",
       "4           0  ...            0            0            0            0   \n",
       "\n",
       "  Unnamed: 145 Unnamed: 146 Unnamed: 147 Unnamed: 148 Unnamed: 149  \\\n",
       "0            0            0            0            0            0   \n",
       "1            0            0            0            0            0   \n",
       "2            0            0            0            0            0   \n",
       "3            0            0            0            0            0   \n",
       "4            0            0            0            0            0   \n",
       "\n",
       "  Unnamed: 150  \n",
       "0            0  \n",
       "1            0  \n",
       "2            0  \n",
       "3            0  \n",
       "4            0  \n",
       "\n",
       "[5 rows x 147 columns]"
      ]
     },
     "execution_count": 342,
     "metadata": {},
     "output_type": "execute_result"
    }
   ],
   "source": [
    "test_df['text']= test_df['subject'] + \" \" + test_df['title'] + \" \" + test_df['text']\n",
    "for i in range(5,151):\n",
    "    test_df['text'] = test_df['text'] + \" \" + test_df.iloc[:,i]\n",
    "\n",
    "del test_df['title']\n",
    "del test_df['subject']\n",
    "del test_df['date']\n",
    "del test_df['ID']\n",
    "print(len(test_df))\n",
    "\n",
    "test_df.head()"
   ]
  },
  {
   "cell_type": "code",
   "execution_count": 343,
   "id": "6890dfa6",
   "metadata": {},
   "outputs": [
    {
     "data": {
      "text/html": [
       "<div>\n",
       "<style scoped>\n",
       "    .dataframe tbody tr th:only-of-type {\n",
       "        vertical-align: middle;\n",
       "    }\n",
       "\n",
       "    .dataframe tbody tr th {\n",
       "        vertical-align: top;\n",
       "    }\n",
       "\n",
       "    .dataframe thead th {\n",
       "        text-align: right;\n",
       "    }\n",
       "</style>\n",
       "<table border=\"1\" class=\"dataframe\">\n",
       "  <thead>\n",
       "    <tr style=\"text-align: right;\">\n",
       "      <th></th>\n",
       "      <th>text</th>\n",
       "    </tr>\n",
       "  </thead>\n",
       "  <tbody>\n",
       "    <tr>\n",
       "      <th>0</th>\n",
       "      <td>politicsNews Democrats' draft platform calls f...</td>\n",
       "    </tr>\n",
       "    <tr>\n",
       "      <th>1</th>\n",
       "      <td>politicsNews Clinton expands lead over Trump t...</td>\n",
       "    </tr>\n",
       "    <tr>\n",
       "      <th>2</th>\n",
       "      <td>Middle-east SUNDAY SCREENING: CIA Secret Exper...</td>\n",
       "    </tr>\n",
       "    <tr>\n",
       "      <th>3</th>\n",
       "      <td>politicsNews House Democratic leader Pelosi sa...</td>\n",
       "    </tr>\n",
       "    <tr>\n",
       "      <th>4</th>\n",
       "      <td>Government News (VIDEO) UNBELIEVABLE! BLACK JU...</td>\n",
       "    </tr>\n",
       "  </tbody>\n",
       "</table>\n",
       "</div>"
      ],
      "text/plain": [
       "                                                text\n",
       "0  politicsNews Democrats' draft platform calls f...\n",
       "1  politicsNews Clinton expands lead over Trump t...\n",
       "2  Middle-east SUNDAY SCREENING: CIA Secret Exper...\n",
       "3  politicsNews House Democratic leader Pelosi sa...\n",
       "4  Government News (VIDEO) UNBELIEVABLE! BLACK JU..."
      ]
     },
     "execution_count": 343,
     "metadata": {},
     "output_type": "execute_result"
    }
   ],
   "source": [
    "test_df.drop(test_df.iloc[:, 1:147], inplace = True, axis = 1)\n",
    "test_df.head()"
   ]
  },
  {
   "cell_type": "code",
   "execution_count": 344,
   "id": "b2421c5d",
   "metadata": {},
   "outputs": [
    {
     "data": {
      "text/plain": [
       "\"politicsNews Democrats' draft platform calls for reviews of trade deals WASHINGTON (Reuters) - The U.S. Democratic Party?�s 2016 policy platform calls for reviews of trade deals, wider health coverage through public programs such as Medicare, and federal investigations of fossil fuel companies accused of misleading shareholders on climate change, according to a draft version released on Friday. The committee drafting the platform last weekend approved the document, which spells out the party?�s policy priorities. It still must be formally adopted at the Democratic National Convention, to be held in Philadelphia in July.  0 0 0 0 0 0 0 0 0 0 0 0 0 0 0 0 0 0 0 0 0 0 0 0 0 0 0 0 0 0 0 0 0 0 0 0 0 0 0 0 0 0 0 0 0 0 0 0 0 0 0 0 0 0 0 0 0 0 0 0 0 0 0 0 0 0 0 0 0 0 0 0 0 0 0 0 0 0 0 0 0 0 0 0 0 0 0 0 0 0 0 0 0 0 0 0 0 0 0 0 0 0 0 0 0 0 0 0 0 0 0 0 0 0 0 0 0 0 0 0 0 0 0 0 0 0 0 0 0 0 0 0 0 0 0 0 0 0 0 0 0 0 0 0 0 0\""
      ]
     },
     "execution_count": 344,
     "metadata": {},
     "output_type": "execute_result"
    }
   ],
   "source": [
    "test_df_before = test_df\n",
    "test_df_before['text'][0]"
   ]
  },
  {
   "cell_type": "code",
   "execution_count": 345,
   "id": "ae7ae893",
   "metadata": {},
   "outputs": [],
   "source": [
    "test_df['text'] = test_df['text'].apply(cleaning)"
   ]
  },
  {
   "cell_type": "code",
   "execution_count": 346,
   "id": "212ae0ee",
   "metadata": {},
   "outputs": [
    {
     "data": {
      "text/plain": [
       "'politicsnews democrat draft platform call review trade deal washington reuters u democratic party policy platform call review trade deal wider health coverage public program medicare federal investigation fossil fuel company accused misleading shareholder climate change according draft version released friday committee drafting platform last weekend approved document spell party policy priority still must formally adopted democratic national convention held philadelphia july'"
      ]
     },
     "execution_count": 346,
     "metadata": {},
     "output_type": "execute_result"
    }
   ],
   "source": [
    "test_df['text'][0]"
   ]
  },
  {
   "cell_type": "code",
   "execution_count": 347,
   "id": "9e2e7e1d",
   "metadata": {},
   "outputs": [
    {
     "data": {
      "text/plain": [
       "8981"
      ]
     },
     "execution_count": 347,
     "metadata": {},
     "output_type": "execute_result"
    }
   ],
   "source": [
    "len(test_df)"
   ]
  },
  {
   "cell_type": "code",
   "execution_count": 348,
   "id": "a50e46d1",
   "metadata": {},
   "outputs": [],
   "source": [
    "# max_features = 10000\n",
    "# maxlen = 300\n",
    "\n",
    "# tokenizer = text.Tokenizer(num_words=max_features)\n",
    "# tokenizer.fit_on_texts(test_df)\n",
    "tokenized_kaggle = tokenizer.texts_to_sequences(test_df['text'])\n",
    "test_df = sequence.pad_sequences(tokenized_kaggle, maxlen=maxlen)"
   ]
  },
  {
   "cell_type": "code",
   "execution_count": 349,
   "id": "f3ed9c0e",
   "metadata": {},
   "outputs": [
    {
     "data": {
      "text/plain": [
       "array([[   0,    0,    0, ...,  334, 2789,  375],\n",
       "       [   0,    0,    0, ..., 4863, 2081,  184],\n",
       "       [   0,    0,    0, ...,  107,  268, 3599],\n",
       "       ...,\n",
       "       [   0,    0,    0, ...,   83, 1081, 2911],\n",
       "       [   0,    0,    0, ...,  234,  422,   38],\n",
       "       [   0,    0,    0, ..., 1597,  683, 2776]])"
      ]
     },
     "execution_count": 349,
     "metadata": {},
     "output_type": "execute_result"
    }
   ],
   "source": [
    "test_df"
   ]
  },
  {
   "cell_type": "code",
   "execution_count": 350,
   "id": "5097476e",
   "metadata": {},
   "outputs": [
    {
     "data": {
      "text/plain": [
       "8981"
      ]
     },
     "execution_count": 350,
     "metadata": {},
     "output_type": "execute_result"
    }
   ],
   "source": [
    "len(test_df)"
   ]
  },
  {
   "cell_type": "code",
   "execution_count": 351,
   "id": "e2a7d63c",
   "metadata": {},
   "outputs": [],
   "source": [
    "prediction_LSTM = model.predict_classes(test_df)"
   ]
  },
  {
   "cell_type": "code",
   "execution_count": 352,
   "id": "22c89b52",
   "metadata": {},
   "outputs": [
    {
     "data": {
      "text/plain": [
       "array([[0],\n",
       "       [0],\n",
       "       [1],\n",
       "       ...,\n",
       "       [1],\n",
       "       [0],\n",
       "       [0]])"
      ]
     },
     "execution_count": 352,
     "metadata": {},
     "output_type": "execute_result"
    }
   ],
   "source": [
    "prediction_LSTM"
   ]
  },
  {
   "cell_type": "code",
   "execution_count": 353,
   "id": "8a2ab30b",
   "metadata": {},
   "outputs": [],
   "source": [
    "pd.DataFrame(prediction_LSTM).to_csv(\"D:/資料科學應用/project/prediction_LSTM.csv\")"
   ]
  },
  {
   "cell_type": "code",
   "execution_count": 354,
   "id": "777cdc2d",
   "metadata": {},
   "outputs": [],
   "source": [
    "model.save('LSTM.h5')"
   ]
  },
  {
   "cell_type": "code",
   "execution_count": null,
   "id": "4c64696d",
   "metadata": {},
   "outputs": [],
   "source": []
  }
 ],
 "metadata": {
  "kernelspec": {
   "display_name": "Python 3",
   "language": "python",
   "name": "python3"
  },
  "language_info": {
   "codemirror_mode": {
    "name": "ipython",
    "version": 3
   },
   "file_extension": ".py",
   "mimetype": "text/x-python",
   "name": "python",
   "nbconvert_exporter": "python",
   "pygments_lexer": "ipython3",
   "version": "3.7.10"
  }
 },
 "nbformat": 4,
 "nbformat_minor": 5
}
